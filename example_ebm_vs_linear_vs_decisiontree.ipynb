{
 "cells": [
  {
   "cell_type": "markdown",
   "metadata": {},
   "source": [
    "# Setup a regression experiment"
   ]
  },
  {
   "cell_type": "code",
   "execution_count": 1,
   "metadata": {
    "scrolled": false
   },
   "outputs": [],
   "source": [
    "from sklearn.model_selection import train_test_split\n",
    "import numpy as np\n",
    "import h5py\n",
    "import pandas as pd\n",
    "import warnings\n",
    "\n",
    "warnings.filterwarnings(\"ignore\")\n",
    "\n",
    "dir_plots=\"z_0_plots\"\n",
    "dir_shape_functions=\"z_0_shape_functions\"\n",
    "\n",
    "hf = h5py.File('get_subhalos/TNG100_1_z0_sh0.h5', 'r')\n",
    "data = {\"total_mass\":       np.log10((hf[\"total_mass\"].value*10**10/0.6774)),\\\n",
    "        \"gas_metallicity\":  np.log10((hf[\"gas_metallicity\"].value/0.0127)),\\\n",
    "        \"star_metallicity\": np.log10((hf[\"star_metallicity\"].value/0.0127)),\\\n",
    "        \"gas_mass\":         np.log10(hf[\"masses\"].value.T[0]*10**10/0.6774),\\\n",
    "        \"dm_mass\":          np.log10(hf[\"masses\"].value.T[1]*10**10/0.6774),\\\n",
    "        \"star_mass\":        np.log10(hf[\"masses\"].value.T[4]*10**10/0.6774),\\\n",
    "        \"bh_mass\":          np.log10(hf[\"masses\"].value.T[5]*10**10/0.6774),\\\n",
    "        \"bh_mass_dot\":      np.log10(hf[\"bh_mass_dot\"].value*(10**10/0.6774)/(0.978*10**9/0.6774)),\\\n",
    "        \"sfr\":              np.log10(hf[\"sfr\"].value)}\n",
    "\n",
    "df = pd.DataFrame(data=data)\n",
    "\n",
    "df=df[(df[\"total_mass\"]>0) &\\\n",
    "      (np.isfinite(df[\"dm_mass\"])) &\\\n",
    "      (np.isfinite(df[\"star_mass\"])) &\\\n",
    "      (np.isfinite(df[\"gas_mass\"])) &\\\n",
    "      (np.isfinite(df[\"bh_mass\"])) &\\\n",
    "      (np.isfinite(df[\"gas_metallicity\"])) &\\\n",
    "      (np.isfinite(df[\"star_metallicity\"])) &\\\n",
    "      (np.isfinite(df[\"bh_mass_dot\"])) &\\\n",
    "      (np.isfinite(df[\"sfr\"])) ]# &\\\n",
    "#       (np.log10(df[\"sfr\"]/(10**df[\"star_mass\"]))<-11)]\n",
    "seed = 1\n",
    "\n",
    "columns = [\"bh_mass\",\"bh_mass_dot\",\"gas_mass\",\"gas_metallicity\",\"sfr\",\"star_mass\",\"star_metallicity\"]\n",
    "\n",
    "# columns = [\"star_mass\"]\n",
    "\n",
    "\n",
    "x = df[columns]\n",
    "y = df[\"dm_mass\"]\n",
    "\n",
    "X_train, X_test, y_train, y_test = train_test_split(x, y, test_size=0.3, random_state=seed)"
   ]
  },
  {
   "cell_type": "code",
   "execution_count": 2,
   "metadata": {},
   "outputs": [
    {
     "data": {
      "text/plain": [
       "(10561, 4527)"
      ]
     },
     "execution_count": 2,
     "metadata": {},
     "output_type": "execute_result"
    }
   ],
   "source": [
    "len(X_train), len(X_test)"
   ]
  },
  {
   "cell_type": "markdown",
   "metadata": {},
   "source": [
    "# Explore the dataset"
   ]
  },
  {
   "cell_type": "code",
   "execution_count": 3,
   "metadata": {},
   "outputs": [
    {
     "data": {
      "text/html": [
       "<!-- http://127.0.0.1:7513/140596567587024/ -->\n",
       "<iframe src=\"http://127.0.0.1:7513/140596567587024/\" width=100% height=800 frameBorder=\"0\"></iframe>"
      ]
     },
     "metadata": {},
     "output_type": "display_data"
    }
   ],
   "source": [
    "from interpret import show\n",
    "from interpret.data import Marginal, ClassHistogram\n",
    "\n",
    "marginal = Marginal(max_scatter_samples=len(X_train)).explain_data(X_train, y_train, name = 'Train Data Marginal')\n",
    "show(marginal)"
   ]
  },
  {
   "cell_type": "markdown",
   "metadata": {},
   "source": [
    "# Train the Explainable Boosting Machine (EBM) and other Explainable Models (Linear Regression, Regression Tree)"
   ]
  },
  {
   "cell_type": "code",
   "execution_count": null,
   "metadata": {},
   "outputs": [],
   "source": [
    "from interpret.glassbox import ExplainableBoostingRegressor, LinearRegression, RegressionTree\n",
    "\n",
    "ebm = ExplainableBoostingRegressor(random_state=seed, interactions=3)\n",
    "ebm.fit(X_train, y_train)\n",
    "\n",
    "lr = LinearRegression(random_state=seed)\n",
    "lr.fit(X_train, y_train)\n",
    "\n",
    "rt = RegressionTree(random_state=seed)\n",
    "rt.fit(X_train, y_train)"
   ]
  },
  {
   "cell_type": "markdown",
   "metadata": {},
   "source": [
    "# Global Explanations: what the models learned overall"
   ]
  },
  {
   "cell_type": "code",
   "execution_count": null,
   "metadata": {},
   "outputs": [],
   "source": [
    "ebm_global = ebm.explain_global(name='EBM')\n",
    "lr_global  = lr.explain_global(name='Linear Regression')\n",
    "rt_global  = rt.explain_global(name='Regression Tree')\n",
    "\n",
    "# show(ebm_global)\n",
    "# show(lr_global)\n",
    "# show(rt_global)"
   ]
  },
  {
   "cell_type": "markdown",
   "metadata": {},
   "source": [
    "# Local Explanations: how an individual prediction was made"
   ]
  },
  {
   "cell_type": "code",
   "execution_count": null,
   "metadata": {},
   "outputs": [],
   "source": [
    "ebm_local = ebm.explain_local(X_test, y_test, name='EBM')\n",
    "lr_local  = lr.explain_local(X_test, y_test, name='Linear Regression')\n",
    "rt_local  = rt.explain_local(X_test, y_test, name='Regression Tree')\n",
    "\n",
    "# show(ebm_local)\n",
    "# show(lr_local)\n",
    "# show(rt_local)"
   ]
  },
  {
   "cell_type": "markdown",
   "metadata": {},
   "source": [
    "# Evaluate EBM, LR and RT perfomances"
   ]
  },
  {
   "cell_type": "code",
   "execution_count": null,
   "metadata": {},
   "outputs": [],
   "source": [
    "from interpret.perf import RegressionPerf\n",
    "\n",
    "ebm_perf = RegressionPerf(ebm.predict).explain_perf(X_test, y_test, name='EBM')\n",
    "lr_perf = RegressionPerf(lr.predict).explain_perf(X_test, y_test, name='Linear Regression')\n",
    "rt_perf = RegressionPerf(rt.predict).explain_perf(X_test, y_test, name='Regression Tree')\n",
    "\n",
    "# show(ebm_perf)\n",
    "# show(lr_perf)\n",
    "# show(rt_perf)"
   ]
  },
  {
   "cell_type": "markdown",
   "metadata": {},
   "source": [
    "# Dashboard: look at everything at once"
   ]
  },
  {
   "cell_type": "code",
   "execution_count": null,
   "metadata": {
    "scrolled": false
   },
   "outputs": [],
   "source": [
    "show([marginal, lr_global, lr_perf, lr_local, rt_global, rt_perf, rt_local, ebm_global, ebm_perf, ebm_local])"
   ]
  },
  {
   "cell_type": "code",
   "execution_count": null,
   "metadata": {},
   "outputs": [],
   "source": []
  }
 ],
 "metadata": {
  "kernelspec": {
   "display_name": "Python 3",
   "language": "python",
   "name": "python3"
  },
  "language_info": {
   "codemirror_mode": {
    "name": "ipython",
    "version": 3
   },
   "file_extension": ".py",
   "mimetype": "text/x-python",
   "name": "python",
   "nbconvert_exporter": "python",
   "pygments_lexer": "ipython3",
   "version": "3.7.3"
  }
 },
 "nbformat": 4,
 "nbformat_minor": 2
}
